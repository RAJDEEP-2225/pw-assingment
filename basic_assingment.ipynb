{
  "cells": [
    {
      "cell_type": "markdown",
      "metadata": {
        "id": "view-in-github",
        "colab_type": "text"
      },
      "source": [
        "<a href=\"https://colab.research.google.com/github/RAJDEEP-2225/pw-assingment/blob/main/basic_assingment.ipynb\" target=\"_parent\"><img src=\"https://colab.research.google.com/assets/colab-badge.svg\" alt=\"Open In Colab\"/></a>"
      ]
    },
    {
      "cell_type": "markdown",
      "id": "6996cf8e-3c94-4e8f-b2ed-17f25d0efef2",
      "metadata": {
        "id": "6996cf8e-3c94-4e8f-b2ed-17f25d0efef2"
      },
      "source": [
        "Python theoretical Questions"
      ]
    },
    {
      "cell_type": "markdown",
      "id": "2147f402-bb2c-4bf8-9726-658b4f57d336",
      "metadata": {
        "id": "2147f402-bb2c-4bf8-9726-658b4f57d336"
      },
      "source": [
        "Q1. What is Python, and why is it popular\n",
        "===================================================\n",
        "\n",
        " python is a high-level programing language it is popular for its versility ,easy to use ,it has lots of libaries it has a large community it is a open source language\n"
      ]
    },
    {
      "cell_type": "markdown",
      "id": "7577ede7-ef76-4689-a17d-330f36be7b82",
      "metadata": {
        "id": "7577ede7-ef76-4689-a17d-330f36be7b82"
      },
      "source": [
        "Q2. What is an interpreter in Python\n",
        "=====================================\n",
        "the interpreter in python is reffer to in the python the code is excuted by line by line"
      ]
    },
    {
      "cell_type": "markdown",
      "id": "94f0b5f9-5dab-4e6d-9d12-4e0e5e5fc7db",
      "metadata": {
        "id": "94f0b5f9-5dab-4e6d-9d12-4e0e5e5fc7db"
      },
      "source": [
        "Q3. What are pre-defined keywords in Python\n",
        "===============================================\n",
        "pre-defined keyword is reffer to the key word is assing to perform a specfic task ex: print() it is used to display and there a lots of pre-defined keyword ."
      ]
    },
    {
      "cell_type": "markdown",
      "id": "c0c156fc-e5b4-4033-a2a0-9354c3869705",
      "metadata": {
        "id": "c0c156fc-e5b4-4033-a2a0-9354c3869705"
      },
      "source": [
        "Q4. Can keywords be used as variable names\n",
        "========================================\n",
        "no keywords cannot be used as a varible because if we use a keyword as a varible if will lose its funcitionality."
      ]
    },
    {
      "cell_type": "markdown",
      "id": "6a82fdd8-20c2-4f8a-a650-b64f0500566a",
      "metadata": {
        "id": "6a82fdd8-20c2-4f8a-a650-b64f0500566a"
      },
      "source": [
        "Q5. What is mutability in Python\n",
        "========================================================\n",
        "Mutability is reffers to the change of the object after it is created .it can  be modified\n",
        "ex: list[]"
      ]
    },
    {
      "cell_type": "markdown",
      "id": "c8b6d78c-bbc5-4d50-833d-8bfed123623d",
      "metadata": {
        "id": "c8b6d78c-bbc5-4d50-833d-8bfed123623d"
      },
      "source": [
        "Q7. What is the difference between “==” and “is” operators in Python\n",
        "=====================================================================\n",
        "(\"==\")is used to check the value  is equal to each other\n",
        "(\"is\")is to check the memory is equal to each other"
      ]
    },
    {
      "cell_type": "markdown",
      "id": "5fe618e5-2145-419b-8e47-3010b6b61fab",
      "metadata": {
        "id": "5fe618e5-2145-419b-8e47-3010b6b61fab"
      },
      "source": [
        "Q8. What are logical operators in Python\n",
        "=========================================\n",
        "logical operator is used to compare two conditions eg:- or,and\n"
      ]
    },
    {
      "cell_type": "markdown",
      "id": "ccc5c029-ddbc-4fe9-9847-4a409c87e6f2",
      "metadata": {
        "id": "ccc5c029-ddbc-4fe9-9847-4a409c87e6f2"
      },
      "source": [
        "Q9. What is type casting in Python\n",
        "=================================\n",
        "Type casting is a method to change it's data type to another data type .\n",
        "ex : int is convert  into string"
      ]
    },
    {
      "cell_type": "markdown",
      "id": "5d766119-8307-41e9-b006-7968cc5bae89",
      "metadata": {
        "id": "5d766119-8307-41e9-b006-7968cc5bae89"
      },
      "source": [
        "Q10. What is the difference between implicit and explicit type casting\n",
        "======================================================================\n",
        "Implicit type casting: it is reffer to where the it is converted automatically its type\n",
        "    ex: a=15\n",
        "        a=15+80.5\n",
        "        type(a)\n",
        "        \n",
        "Explicit type casting: it is reffer to where the it is converted by manualaly  its type\n",
        "ex: a=15\n",
        "    b=str(a)\n",
        "    type(b)"
      ]
    },
    {
      "cell_type": "markdown",
      "id": "03beb884-9802-4508-8640-dfd6500f5f03",
      "metadata": {
        "id": "03beb884-9802-4508-8640-dfd6500f5f03"
      },
      "source": [
        "Q11. What is the purpose of conditional statements in Python\n",
        "================================================================\n",
        "The purpose of condition statement is reffer to make decission according  to the statement like if ,elif,else"
      ]
    },
    {
      "cell_type": "markdown",
      "id": "c0544483-22a7-4fa4-8d89-1321ccee9e49",
      "metadata": {
        "id": "c0544483-22a7-4fa4-8d89-1321ccee9e49"
      },
      "source": [
        "Q12. How does the elif statement work\n",
        "=================================================\n",
        "elif is used to create multiple seniro for every condition if one fails then go  second one.\n"
      ]
    },
    {
      "cell_type": "markdown",
      "id": "6a8cb778-dc3a-4a69-b53b-e2c9ccdae010",
      "metadata": {
        "id": "6a8cb778-dc3a-4a69-b53b-e2c9ccdae010"
      },
      "source": [
        "Q13. What is the difference between for and while loops\n",
        "==============================================================\n",
        "for loop :it is used for where you know how many time you want to execute.\n",
        "\n",
        "while : it is used for where youn dont how many time you want to execute."
      ]
    },
    {
      "cell_type": "markdown",
      "id": "76ddfbf3-8c25-459a-bc27-342c6dfe97f2",
      "metadata": {
        "id": "76ddfbf3-8c25-459a-bc27-342c6dfe97f2"
      },
      "source": [
        "Q14. Describe a scenario where a while loop is more suitable than a for loop.\n",
        "==============================================================================\n",
        "it is sutible for the correct password checking it will ask the password until it get the right password"
      ]
    },
    {
      "cell_type": "raw",
      "id": "1f40361d-5897-4f56-a0ae-2500b67b9763",
      "metadata": {
        "id": "1f40361d-5897-4f56-a0ae-2500b67b9763"
      },
      "source": [
        "practical Qestions"
      ]
    },
    {
      "cell_type": "code",
      "execution_count": null,
      "id": "4d9930f6-7bce-4b98-890f-2825a5bcfbcc",
      "metadata": {
        "id": "4d9930f6-7bce-4b98-890f-2825a5bcfbcc",
        "outputId": "917d33d9-2f49-4689-ab2a-fddc95dd02b3"
      },
      "outputs": [
        {
          "name": "stdout",
          "output_type": "stream",
          "text": [
            "hello, World!\n"
          ]
        }
      ],
      "source": [
        "#1.Write a Python program to print \"Hello, World!\n",
        "print('hello, World!')"
      ]
    },
    {
      "cell_type": "code",
      "execution_count": null,
      "id": "307e4f78-3e08-4b88-81db-ec1c199c39d3",
      "metadata": {
        "id": "307e4f78-3e08-4b88-81db-ec1c199c39d3",
        "outputId": "e57284a9-08bc-41cc-c5b3-613d5e493270"
      },
      "outputs": [
        {
          "name": "stdout",
          "output_type": "stream",
          "text": [
            "NAME: RAJ DEEP SINGH\n",
            "age: 21\n"
          ]
        }
      ],
      "source": [
        "#2.Write a Python program that displays your name and age.\n",
        "name=\"RAJ DEEP SINGH\"\n",
        "age=21\n",
        "print('NAME:',name)\n",
        "print('age:',age)"
      ]
    },
    {
      "cell_type": "code",
      "execution_count": null,
      "id": "7de37420-fe31-480b-a806-4cc3f816e25b",
      "metadata": {
        "id": "7de37420-fe31-480b-a806-4cc3f816e25b",
        "outputId": "9f4fce2e-a42c-4e44-bff9-48276d1b4ae9"
      },
      "outputs": [
        {
          "name": "stdout",
          "output_type": "stream",
          "text": [
            "['False', 'None', 'True', 'and', 'as', 'assert', 'async', 'await', 'break', 'class', 'continue', 'def', 'del', 'elif', 'else', 'except', 'finally', 'for', 'from', 'global', 'if', 'import', 'in', 'is', 'lambda', 'nonlocal', 'not', 'or', 'pass', 'raise', 'return', 'try', 'while', 'with', 'yield']\n"
          ]
        }
      ],
      "source": [
        "#3Write code to print all the pre-defined keywords in Python using the keyword library\n",
        "import keyword as k\n",
        "print(k.kwlist)"
      ]
    },
    {
      "cell_type": "code",
      "execution_count": null,
      "id": "643536e4-b101-4627-82e7-9873a737daa9",
      "metadata": {
        "id": "643536e4-b101-4627-82e7-9873a737daa9",
        "outputId": "03fa0691-7bf7-4d31-c2b0-00e69e5ad648"
      },
      "outputs": [
        {
          "name": "stdin",
          "output_type": "stream",
          "text": [
            "ENTER THE WORD YOU WANT TO CHECK : for\n"
          ]
        },
        {
          "name": "stdout",
          "output_type": "stream",
          "text": [
            "Yes it is a python keyword: for\n"
          ]
        }
      ],
      "source": [
        "#4.Write a program that checks if a given word is a Python keyword.\n",
        "word=input(\"ENTER THE WORD YOU WANT TO CHECK :\")\n",
        "if k.iskeyword(word):\n",
        "    print(\"Yes it is a python keyword:\",word)\n",
        "else:\n",
        "    print(\"NO it is not a python keyword:\",word)"
      ]
    },
    {
      "cell_type": "code",
      "execution_count": null,
      "id": "f7472a3d-0df1-4e54-80f7-35a819e7b4ef",
      "metadata": {
        "id": "f7472a3d-0df1-4e54-80f7-35a819e7b4ef",
        "outputId": "bf59e11a-3f43-443c-ef5d-3af58a793513"
      },
      "outputs": [
        {
          "name": "stdout",
          "output_type": "stream",
          "text": [
            "oringnal list:[1, 2, 3, 'rajdeep']\n",
            "modified list:[1, 2, 'pw skills', 'rajdeep']\n",
            "oringnal tupe:(22, 55, 85, 552)\n"
          ]
        },
        {
          "data": {
            "text/plain": [
              "'orgtup[1]=\"hello\"\\nprint(f\\'oringnal tuple:{org_tup})\\nit wiil throw an error because an tuple  cannot  be updated because it is mutable'"
            ]
          },
          "execution_count": 16,
          "metadata": {},
          "output_type": "execute_result"
        }
      ],
      "source": [
        "#5.Create a list and tuple in Python, and demonstrate how attempting to change an element works differently for each\n",
        "orgl=[1,2,3,\"rajdeep\"]\n",
        "print(f'oringnal list:{orgl}')\n",
        "#modified list\n",
        "orgl[2]=\"pw skills\"\n",
        "print(f'modified list:{orgl}')\n",
        "# now for creation of tuple\n",
        "orgtup=(22,55,85,552)\n",
        "print(f\"oringnal tupe:{orgtup}\")\n",
        "#now for modified tupple\n",
        "\"\"\"orgtup[1]=\"hello\"\n",
        "print(f'oringnal tuple:{org_tup})\n",
        "it wiil throw an error because an tuple  cannot  be updated because it is mutable\"\"\""
      ]
    },
    {
      "cell_type": "code",
      "execution_count": null,
      "id": "6e7a8abe-653d-45bc-b421-e40972cf2feb",
      "metadata": {
        "id": "6e7a8abe-653d-45bc-b421-e40972cf2feb",
        "outputId": "e95f7eb7-65a0-4c5a-afc0-ea764b78b901"
      },
      "outputs": [
        {
          "name": "stdout",
          "output_type": "stream",
          "text": [
            "Inside function: 1026 [14, 5, 34, 4]\n",
            "Outside function: 1025 [14, 5, 34, 4]\n"
          ]
        }
      ],
      "source": [
        "#6.Write a function to demonstrate the behavior of mutable and immutable arguments\n",
        "def change_values(a, b):\n",
        "    a = a + 1         # int (immutable)\n",
        "    b.append(4)       # list (mutable)\n",
        "    print(\"Inside function:\", a, b)\n",
        "\n",
        "x = 1025\n",
        "y = [14, 5, 34]\n",
        "change_values(x, y)\n",
        "print(\"Outside function:\", x, y)"
      ]
    },
    {
      "cell_type": "code",
      "execution_count": null,
      "id": "8b22a8ee-b89a-4f29-a2e3-27783905e34c",
      "metadata": {
        "id": "8b22a8ee-b89a-4f29-a2e3-27783905e34c",
        "outputId": "18869d44-2238-440f-9fcf-384873a0012c"
      },
      "outputs": [
        {
          "name": "stdin",
          "output_type": "stream",
          "text": [
            "enter the first no: 15\n",
            "enter the second no: 4\n"
          ]
        },
        {
          "name": "stdout",
          "output_type": "stream",
          "text": [
            "The Additon of 15 and 4 is 19\n",
            "The Subtraction of 15 and 4 is 11\n",
            "The Multiplication of 15 and 4 is 60\n",
            "The Divide of 15 and 4 is 3.75\n"
          ]
        }
      ],
      "source": [
        "#7.Write a program that performs basic arithmetic operations on two user-input numbers.\n",
        "no1=int(input(\"enter the first no:\"))\n",
        "no2=int(input(\"enter the second no:\"))\n",
        "print(f\"The Additon of {no1} and {no2} is {no1+no2}\")\n",
        "print(f\"The Subtraction of {no1} and {no2} is {no1-no2}\")\n",
        "print(f\"The Multiplication of {no1} and {no2} is {no1*no2}\")\n",
        "print(f\"The Divide of {no1} and {no2} is {no1/no2}\")"
      ]
    },
    {
      "cell_type": "code",
      "execution_count": null,
      "id": "0be47a94-4fa4-4adb-a02b-29c6618b79ef",
      "metadata": {
        "id": "0be47a94-4fa4-4adb-a02b-29c6618b79ef",
        "outputId": "1e696734-d275-4e8a-98ad-1799ae235d4e"
      },
      "outputs": [
        {
          "name": "stdout",
          "output_type": "stream",
          "text": [
            "True\n",
            "True\n",
            "False\n"
          ]
        }
      ],
      "source": [
        "#8Write a program to demonstrate the use of logical operators.\n",
        "x=25\n",
        "y=50\n",
        "print(x>1 and y>1)#true\n",
        "print(x<1 or y>1)# true\n",
        "print(not(x==25))"
      ]
    },
    {
      "cell_type": "code",
      "execution_count": null,
      "id": "10a14f95-4acb-4e0f-a5f2-82fa9727fd76",
      "metadata": {
        "id": "10a14f95-4acb-4e0f-a5f2-82fa9727fd76",
        "outputId": "84fd394d-5596-436a-8948-61426c2ed6be"
      },
      "outputs": [
        {
          "name": "stdin",
          "output_type": "stream",
          "text": [
            "Enter the text you wnat to convert : 55\n"
          ]
        },
        {
          "name": "stdout",
          "output_type": "stream",
          "text": [
            "the user has enter the data type : <class 'str'>\n",
            "now it has converted to integer <class 'int'> it value is: 55\n",
            "now it has converted to float <class 'float'> it value is: 55.0\n",
            "now it has converted to boolean <class 'bool'> it value is: True\n"
          ]
        }
      ],
      "source": [
        "#9Write a Python program to convert user input from string to integer, float, and boolean types.\n",
        "userstring=input(\"Enter the text you wnat to convert :\")\n",
        "print(\"the user has enter the data type :\",type(userstring))\n",
        "b=int(userstring)\n",
        "print(\"now it has converted to integer\", type(b),\"it value is:\",b)\n",
        "c=float(userstring)\n",
        "print(\"now it has converted to float\",type(c),\"it value is:\",c)\n",
        "d=bool(userstring)\n",
        "print(\"now it has converted to boolean\",type(d),\"it value is:\",d)"
      ]
    },
    {
      "cell_type": "code",
      "execution_count": null,
      "id": "69c894e1-9581-4fd5-8641-bbbd6dbf3f03",
      "metadata": {
        "id": "69c894e1-9581-4fd5-8641-bbbd6dbf3f03",
        "outputId": "cdd2e483-559f-48ca-bea6-4e1871d773af"
      },
      "outputs": [
        {
          "name": "stdout",
          "output_type": "stream",
          "text": [
            "old list in the form of string  ['5', '4', '3', '2', '1']\n",
            "updated listin the  int form [5, 4, 3, 2, 1]\n"
          ]
        }
      ],
      "source": [
        "#10. Write code to demonstrate type casting with list elements.\n",
        "normal_list=[\"5\",\"4\",\"3\",\"2\",\"1\"]\n",
        "newlist=[]\n",
        "for i in normal_list:\n",
        "    newlist.append(int(i))\n",
        "print(\"old list in the form of string \",normal_list)\n",
        "print(\"updated listin the  int form\",newlist)"
      ]
    },
    {
      "cell_type": "code",
      "execution_count": null,
      "id": "050041b0-341c-4b93-9d93-d569deac958a",
      "metadata": {
        "id": "050041b0-341c-4b93-9d93-d569deac958a",
        "outputId": "556609bc-84fc-426d-8ee2-badc46e163dc"
      },
      "outputs": [
        {
          "name": "stdin",
          "output_type": "stream",
          "text": [
            "enter the no you want to check: 55\n"
          ]
        },
        {
          "name": "stdout",
          "output_type": "stream",
          "text": [
            "you have entered a positive no. 55\n"
          ]
        }
      ],
      "source": [
        "#11Write a program that checks if a number is positive, negative, or zero.\n",
        "no=int(input(\"enter the no you want to check:\"))\n",
        "if(no>0):\n",
        "    print(\"you have entered a positive no.\",no)\n",
        "elif(no<0):\n",
        "    print(\"you have entered a negative no:\",no)\n",
        "else:\n",
        "    print(\"you have entered zero:\",no)"
      ]
    },
    {
      "cell_type": "code",
      "execution_count": null,
      "id": "151e7ae7-df5c-4fcb-8943-e3edfc4f3ba0",
      "metadata": {
        "id": "151e7ae7-df5c-4fcb-8943-e3edfc4f3ba0",
        "outputId": "869082fa-c358-4f2f-ff99-a739093b6448"
      },
      "outputs": [
        {
          "name": "stdout",
          "output_type": "stream",
          "text": [
            "1\n",
            "2\n",
            "3\n",
            "4\n",
            "5\n",
            "6\n",
            "7\n",
            "8\n",
            "9\n",
            "10\n"
          ]
        }
      ],
      "source": [
        "#12Write a for loop to print numbers from 1 to 10.\n",
        "for i in range(1,11):\n",
        "    print(i)"
      ]
    },
    {
      "cell_type": "code",
      "execution_count": null,
      "id": "1eba8e8b-f5ce-4020-a73e-c0cfc3f538c2",
      "metadata": {
        "id": "1eba8e8b-f5ce-4020-a73e-c0cfc3f538c2",
        "outputId": "77f9bbef-eea5-4a8a-8e17-6237ae2f1d93"
      },
      "outputs": [
        {
          "name": "stdout",
          "output_type": "stream",
          "text": [
            "650\n"
          ]
        }
      ],
      "source": [
        "#13 Write a Python program to find the sum of all even numbers between 1 and 50\n",
        "total=0\n",
        "for i in range(1,51):\n",
        "    if i%2==0:\n",
        "        total=total+i\n",
        "print(total)"
      ]
    },
    {
      "cell_type": "code",
      "execution_count": null,
      "id": "55892233-696c-4ad1-abc3-6e3faf7fad50",
      "metadata": {
        "id": "55892233-696c-4ad1-abc3-6e3faf7fad50",
        "outputId": "36c6790b-265e-4e54-afd4-88f166338105"
      },
      "outputs": [
        {
          "name": "stdout",
          "output_type": "stream",
          "text": [
            "reverse string PEEDJAR\n"
          ]
        }
      ],
      "source": [
        "#14.Write a program to reverse a string using a while loop\n",
        "name=input(\"\")\n",
        "reversename=\"\"\n",
        "index=len(name)-1\n",
        "while index>=0:\n",
        "    reversename=reversename+name[index]\n",
        "    index=index-1\n",
        "print(\"reverse string\",reversename)"
      ]
    },
    {
      "cell_type": "code",
      "execution_count": null,
      "id": "fde3c6ad-91db-49c4-a518-92c1d64e80bf",
      "metadata": {
        "id": "fde3c6ad-91db-49c4-a518-92c1d64e80bf",
        "outputId": "24781984-a989-4acd-c3ca-b0793a50e298"
      },
      "outputs": [
        {
          "name": "stdin",
          "output_type": "stream",
          "text": [
            "Enter a number to calculate its factorial  5\n"
          ]
        },
        {
          "name": "stdout",
          "output_type": "stream",
          "text": [
            "120\n"
          ]
        }
      ],
      "source": [
        "#15. Write a Python program to calculate the factorial of a number provided by the user using a while loop\n",
        "num = int(input(\"Enter a number to calculate its factorial \"));\n",
        "i = 1;\n",
        "fact_num = 1;\n",
        "while i<=num:\n",
        "  fact_num*=i;\n",
        "  i+=1;\n",
        "print(fact_num);"
      ]
    },
    {
      "cell_type": "code",
      "execution_count": null,
      "id": "6a2ab4f6-ed38-4804-8fc6-f627cbc43b2a",
      "metadata": {
        "id": "6a2ab4f6-ed38-4804-8fc6-f627cbc43b2a"
      },
      "outputs": [],
      "source": []
    }
  ],
  "metadata": {
    "kernelspec": {
      "display_name": "Python 3 (ipykernel)",
      "language": "python",
      "name": "python3"
    },
    "language_info": {
      "codemirror_mode": {
        "name": "ipython",
        "version": 3
      },
      "file_extension": ".py",
      "mimetype": "text/x-python",
      "name": "python",
      "nbconvert_exporter": "python",
      "pygments_lexer": "ipython3",
      "version": "3.13.3"
    },
    "colab": {
      "provenance": [],
      "include_colab_link": true
    }
  },
  "nbformat": 4,
  "nbformat_minor": 5
}