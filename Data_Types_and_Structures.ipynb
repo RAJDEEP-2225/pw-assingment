{
  "nbformat": 4,
  "nbformat_minor": 0,
  "metadata": {
    "colab": {
      "provenance": [],
      "authorship_tag": "ABX9TyMFYAnOBmYT0Tw3Q5NOFGtZ",
      "include_colab_link": true
    },
    "kernelspec": {
      "name": "python3",
      "display_name": "Python 3"
    },
    "language_info": {
      "name": "python"
    }
  },
  "cells": [
    {
      "cell_type": "markdown",
      "metadata": {
        "id": "view-in-github",
        "colab_type": "text"
      },
      "source": [
        "<a href=\"https://colab.research.google.com/github/RAJDEEP-2225/pw-assingment/blob/main/Data_Types_and_Structures.ipynb\" target=\"_parent\"><img src=\"https://colab.research.google.com/assets/colab-badge.svg\" alt=\"Open In Colab\"/></a>"
      ]
    },
    {
      "cell_type": "markdown",
      "source": [
        "Q1. What are data structures, and why are they important\n",
        "=============================================================\n",
        "data structur is a manner to store a data  wher we can use the data effectively .it is important because it will store & acces easily and data accesing speed will increse."
      ],
      "metadata": {
        "id": "dwGkkzQUphv1"
      }
    },
    {
      "cell_type": "markdown",
      "source": [
        "Q2) Explain the difference between mutable and immutable data types with examples.\n",
        "==============================================\n",
        "\n",
        "Mutable means we can change the value after it's created. For example, a list is mutable we can add or remove items.\n",
        "Immutable means once it's made, we can't change it. A string or a tuple is immutable, we can't modify them directly."
      ],
      "metadata": {
        "id": "Ynyq7RbUpheq"
      }
    },
    {
      "cell_type": "markdown",
      "source": [
        "Q3) What are the main differences between lists and tuples in Python?\n",
        "========================================================================\n",
        "  list\n",
        "============\n",
        "*    it is mutable\n",
        "*   it is colective data type\n",
        "\n",
        "*   List symbol is\"[ ]\"\n",
        "*   adding removing is possible\n",
        "\n",
        "tuple\n",
        "==============\n",
        "\n",
        "\n",
        "*   tuple is immutable\n",
        "*   it is also a colectcib=ve data type\n",
        "*   tuple symbol is \"( )\"\n",
        "*   adding removing is not posible\n",
        "\n",
        "\n",
        "\n",
        "\n",
        "\n",
        "\n",
        "\n",
        "\n"
      ],
      "metadata": {
        "id": "G976XCNost_T"
      }
    },
    {
      "cell_type": "markdown",
      "source": [
        "Q4. Describe how dictionaries store data\n",
        "===========================================\n",
        "dictionaries store the data in the form of key : value pair for fast searching on large records.\n",
        "\n",
        "ex\n",
        "    \n",
        "  name:Raj deep singh\n",
        "\n",
        "   age:21\n",
        "\n",
        "   sex:male\n",
        "\n",
        "   mobileno:9711406828\n"
      ],
      "metadata": {
        "id": "p4UwFEjMtz7c"
      }
    },
    {
      "cell_type": "markdown",
      "source": [
        "Q5.Why might you use a set instead of a list in Python\n",
        "==================\n",
        "set is used more because it prove the unique value and it does not  allow the dublicate value but in the list yoou can create the dublicate items.\n"
      ],
      "metadata": {
        "id": "PZXrH6GpuigR"
      }
    },
    {
      "cell_type": "markdown",
      "source": [
        "Q6.) What is a string in Python, and how is it different from a list\n",
        "====================================\n",
        "string is reffer to the charecters like \"Rajdeep\".it is diffrent from the list because in the list we can store multiple value in single lis and many data type\n"
      ],
      "metadata": {
        "id": "4I0Z_xpavVNy"
      }
    },
    {
      "cell_type": "markdown",
      "source": [
        "Q7.How do tuples ensure data integrity in Python?\n",
        "==================================================\n",
        "Because tuples are immutable , they protect data from being accidentally modified. that ensure data is secured"
      ],
      "metadata": {
        "id": "7c9w5zz3GCY6"
      }
    },
    {
      "cell_type": "markdown",
      "source": [
        "Q8. What is a hash table, and how does it relate to dictionaries in Python?\n",
        "========================\n",
        "A hash table is a way of storing data using a unique key for each value. Python dictionaries use hash tables under the hood to quickly find values by their keys"
      ],
      "metadata": {
        "id": "3KWQaY4eGOvg"
      }
    },
    {
      "cell_type": "markdown",
      "source": [
        "Q9. Can lists contain different data types in Python\n",
        "==================================\n",
        "yes list can store multiple data type\n",
        "\n",
        "ex : int,float,string,complex value"
      ],
      "metadata": {
        "id": "taq1yjehvyeU"
      }
    },
    {
      "cell_type": "markdown",
      "source": [
        "Q10) Explain why strings are immutable in Python?\n",
        "================================================\n",
        "\n",
        "Strings are immutable to make them faster, safer, and more memory-efficient."
      ],
      "metadata": {
        "id": "VPmaUr9DwNOf"
      }
    },
    {
      "cell_type": "markdown",
      "source": [
        "Q11. What advantages do dictionaries offer over lists for certain tasks?\n",
        "========================================================================\n",
        "\n",
        "Dictionaries are great when you want to quickly look up a value using a name or key. They are much faster than searching through a list to find something."
      ],
      "metadata": {
        "id": "mb6fDBuNAymw"
      }
    },
    {
      "cell_type": "markdown",
      "source": [
        "Q12. Describe a scenario where using a tuple would be preferable over a list?\n",
        "=================================\n",
        "if we have to save the immutable data like mobile no  of a person then we can use the tuple"
      ],
      "metadata": {
        "id": "RetN9XZaBDIW"
      }
    },
    {
      "cell_type": "markdown",
      "source": [
        "Q13. How do sets handle duplicate values in Python?\n",
        "=====================\n",
        "sets automatically remove the dublicate value if we add a item twies it will remove automaticaly"
      ],
      "metadata": {
        "id": "2SDXLgkWHS13"
      }
    },
    {
      "cell_type": "markdown",
      "source": [
        "Q14. How does the “in” keyword work differently for lists and dictionaries?\n",
        "=============================\n",
        "\n",
        "In a list, “in” checks if a value exists. In a dictionary, it checks if a key exists (not the value)"
      ],
      "metadata": {
        "id": "qFW8AJ1IHnFb"
      }
    },
    {
      "cell_type": "markdown",
      "source": [
        "Q15 Can you modify the elements of a tuple? Explain why or why not?\n",
        "======================================================\n",
        "No  we can't modify the element of tuple because Tuples are immutable, so once they're created, we can't change, add, or remove elements"
      ],
      "metadata": {
        "id": "4D_r0O3_HxaY"
      }
    },
    {
      "cell_type": "markdown",
      "source": [
        "Q16. What is a nested dictionary, and give an example of its use case?\n",
        "====================================\n",
        "A nested dictionary is a dictionary inside another dictionary. It's useful for storing related data."
      ],
      "metadata": {
        "id": "5riXH7KdH-kM"
      }
    },
    {
      "cell_type": "markdown",
      "source": [
        "Practical question\n",
        "====================================================="
      ],
      "metadata": {
        "id": "wN6FB0m0IJHe"
      }
    },
    {
      "cell_type": "code",
      "execution_count": null,
      "metadata": {
        "colab": {
          "base_uri": "https://localhost:8080/"
        },
        "id": "i81FrGILlmKn",
        "outputId": "f2c072bd-241a-448b-fd70-f256b1489f67"
      },
      "outputs": [
        {
          "output_type": "stream",
          "name": "stdout",
          "text": [
            "rajdeep\n",
            "<class 'str'>\n"
          ]
        }
      ],
      "source": [
        "#Q1.Write a code to create a string with your name and print it\n",
        "name=\"rajdeep\"\n",
        "print(name)\n",
        "print(type(name))"
      ]
    },
    {
      "cell_type": "code",
      "source": [
        "#Q2.Write a code to find the length of the string \"Hello World\"\n",
        "b=\"Hello world\"\n",
        "print( \"the length of hello world is:\",len(b))\n"
      ],
      "metadata": {
        "colab": {
          "base_uri": "https://localhost:8080/"
        },
        "id": "1KcQwWGBmG5E",
        "outputId": "c27cf208-d92f-48a1-af92-38b3706b35e8"
      },
      "execution_count": null,
      "outputs": [
        {
          "output_type": "stream",
          "name": "stdout",
          "text": [
            "the length of hello world is: 11\n"
          ]
        }
      ]
    },
    {
      "cell_type": "code",
      "source": [
        "#3.Write a code to slice the first 3 characters from the string \"Python Programming\"\n",
        "c=\"python programming\"\n",
        "print(c[0:3])"
      ],
      "metadata": {
        "colab": {
          "base_uri": "https://localhost:8080/"
        },
        "id": "ELqMrq6Fm1PQ",
        "outputId": "5b461d8e-54bf-42d2-e636-15c772d063a7"
      },
      "execution_count": null,
      "outputs": [
        {
          "output_type": "stream",
          "name": "stdout",
          "text": [
            "pyt\n"
          ]
        }
      ]
    },
    {
      "cell_type": "code",
      "source": [
        "#4.Write a code to convert the string \"hello\" to uppercase\n",
        "d=\"hello\"\n",
        "print(d.upper())"
      ],
      "metadata": {
        "colab": {
          "base_uri": "https://localhost:8080/"
        },
        "id": "T2qgvGtmnPw8",
        "outputId": "d4a2f4ce-6375-400b-87b2-6b1464dc8500"
      },
      "execution_count": null,
      "outputs": [
        {
          "output_type": "stream",
          "name": "stdout",
          "text": [
            "HELLO\n"
          ]
        }
      ]
    },
    {
      "cell_type": "code",
      "source": [
        "#5. Write a code to replace the word \"apple\" with \"orange\" in the string \"I like apple\"\n",
        "_string=\"I like apple\"\n",
        "replaced_string=_string.replace(\"apple\",\"orange\")\n",
        "print(replaced_string)"
      ],
      "metadata": {
        "colab": {
          "base_uri": "https://localhost:8080/"
        },
        "id": "ixmTzl3Egw2y",
        "outputId": "236debe7-a4ba-4810-f387-b4227c293e3d"
      },
      "execution_count": null,
      "outputs": [
        {
          "output_type": "stream",
          "name": "stdout",
          "text": [
            "I like orange\n"
          ]
        }
      ]
    },
    {
      "cell_type": "code",
      "source": [
        "#6. Write a code to create a list with numbers 1 to 5 and print it\n",
        "new_list=[1,2,3,4,5]\n",
        "print(new_list)\n"
      ],
      "metadata": {
        "colab": {
          "base_uri": "https://localhost:8080/"
        },
        "id": "diCo03IShgGa",
        "outputId": "ca7d747b-bf6f-4322-f32e-119929de8250"
      },
      "execution_count": null,
      "outputs": [
        {
          "output_type": "stream",
          "name": "stdout",
          "text": [
            "[1, 2, 3, 4, 5]\n"
          ]
        }
      ]
    },
    {
      "cell_type": "code",
      "source": [
        "#7.Write a code to append the number 10 to the list [1, 2, 3, 4]\n",
        "abc=[1,2,3,4]\n",
        "abc.append(10)\n",
        "print(abc)"
      ],
      "metadata": {
        "colab": {
          "base_uri": "https://localhost:8080/"
        },
        "id": "vh2AoKzXiaBd",
        "outputId": "88a2a094-0268-47a8-efab-d0d0518ce035"
      },
      "execution_count": null,
      "outputs": [
        {
          "output_type": "stream",
          "name": "stdout",
          "text": [
            "[1, 2, 3, 4, 10]\n"
          ]
        }
      ]
    },
    {
      "cell_type": "code",
      "source": [
        "#8. Write a code to remove the number 3 from the list [1, 2, 3, 4, 5\n",
        "_list=[1,2,3,4,5]\n",
        "_list.remove(3)\n",
        "print(_list)"
      ],
      "metadata": {
        "colab": {
          "base_uri": "https://localhost:8080/"
        },
        "id": "3xzgwzrkiw_R",
        "outputId": "e22a86ea-a095-4ca2-9c6b-e1fd32c0907a"
      },
      "execution_count": null,
      "outputs": [
        {
          "output_type": "stream",
          "name": "stdout",
          "text": [
            "[1, 2, 4, 5]\n"
          ]
        }
      ]
    },
    {
      "cell_type": "code",
      "source": [
        "#9.Write a code to access the second element in the list ['a', 'b', 'c', 'd']\n",
        "_list1=[\"a\",\"b\",\"c\",\"d\"]\n",
        "print(_list1[1])"
      ],
      "metadata": {
        "colab": {
          "base_uri": "https://localhost:8080/"
        },
        "id": "5ugsMwdBfFrf",
        "outputId": "3664bb88-66fe-4174-de37-eb1c502a0fe0"
      },
      "execution_count": null,
      "outputs": [
        {
          "output_type": "stream",
          "name": "stdout",
          "text": [
            "b\n"
          ]
        }
      ]
    },
    {
      "cell_type": "code",
      "source": [
        "#10.Write a code to reverse the list [10, 20, 30, 40, 50]\n",
        "_list2=[10, 20, 30, 40, 50]\n",
        "_list2.reverse()\n",
        "print(\"reversed list\",_list2)"
      ],
      "metadata": {
        "colab": {
          "base_uri": "https://localhost:8080/"
        },
        "id": "Cl6PaZMnfnU2",
        "outputId": "4e8f9eae-49ba-4317-f4ce-edfe4d1ce572"
      },
      "execution_count": null,
      "outputs": [
        {
          "output_type": "stream",
          "name": "stdout",
          "text": [
            "reversed list [50, 40, 30, 20, 10]\n"
          ]
        }
      ]
    },
    {
      "cell_type": "code",
      "source": [
        "#11 Write a code to create a tuple with the elements 100, 200, 300 and print it.\n",
        "_tuple=(100,200,300)\n",
        "print(_tuple)"
      ],
      "metadata": {
        "colab": {
          "base_uri": "https://localhost:8080/"
        },
        "id": "sMvzGwdNdPcu",
        "outputId": "84ee03e5-a40c-4dff-8a9c-6d14de2834c9"
      },
      "execution_count": null,
      "outputs": [
        {
          "output_type": "stream",
          "name": "stdout",
          "text": [
            "(100, 200, 300)\n"
          ]
        }
      ]
    },
    {
      "cell_type": "code",
      "source": [
        "#12. Write a code to access the second-to-last element of the tuple ('red', 'green', 'blue', 'yellow')\n",
        "_tuple1=('red', 'green', 'blue', 'yellow')\n",
        "print(\"the second element of tuple is:\",_tuple1[1])"
      ],
      "metadata": {
        "colab": {
          "base_uri": "https://localhost:8080/"
        },
        "id": "kdeElAx3dcWN",
        "outputId": "b8310393-c8de-4b27-d390-7e4269bd5761"
      },
      "execution_count": null,
      "outputs": [
        {
          "output_type": "stream",
          "name": "stdout",
          "text": [
            "the second element of tuple is: green\n"
          ]
        }
      ]
    },
    {
      "cell_type": "code",
      "source": [
        "#13.Write a code to find the minimum number in the tuple (10, 20, 5, 15).\n",
        "\n",
        "_tuple2=(10,20,5,15)\n",
        "print(\"the minimum no.in tuple is:\",min(_tuple2))"
      ],
      "metadata": {
        "colab": {
          "base_uri": "https://localhost:8080/"
        },
        "id": "IvN9rUYcdsJO",
        "outputId": "caa0e7c9-c688-45fb-b767-481176fcb1a2"
      },
      "execution_count": null,
      "outputs": [
        {
          "output_type": "stream",
          "name": "stdout",
          "text": [
            "the minimum no.in tuple is: 5\n"
          ]
        }
      ]
    },
    {
      "cell_type": "code",
      "source": [
        "#14.Write a code to find the index of the element \"cat\" in the tuple ('dog', 'cat', 'rabbit').\n",
        "_tuple3=('dog', 'cat', 'rabbit')\n",
        "print(\"the index of cat is:\",_tuple3.index('cat'))"
      ],
      "metadata": {
        "colab": {
          "base_uri": "https://localhost:8080/"
        },
        "id": "Adm-dfSJemUU",
        "outputId": "c09026f7-9732-4094-ca91-236ae1e1a2fc"
      },
      "execution_count": null,
      "outputs": [
        {
          "output_type": "stream",
          "name": "stdout",
          "text": [
            "the index of cat is: 1\n"
          ]
        }
      ]
    },
    {
      "cell_type": "code",
      "source": [
        "#15. Write a code to create a tuple containing three different fruits and check if \"kiwi\" is in it.\n",
        "_tuple4=(\"mango\",\"banana\",\"grapes\")\n",
        "if \"kiwi\" in _tuple4:\n",
        "  print(\"kiwi is presented in the tuple\")\n",
        "else:\n",
        "  print(\"kiwi is  not presented in the tuple\")"
      ],
      "metadata": {
        "colab": {
          "base_uri": "https://localhost:8080/"
        },
        "id": "O1zghuH-gb6R",
        "outputId": "ad63cffd-e896-4301-c115-e7efb968b607"
      },
      "execution_count": null,
      "outputs": [
        {
          "output_type": "stream",
          "name": "stdout",
          "text": [
            "kiwi is  not presented in the tuple\n"
          ]
        }
      ]
    },
    {
      "cell_type": "code",
      "source": [
        "#16. Write a code to create a set with the elements 'a', 'b', 'c' and print it.\n",
        "_set={\"a\",\"b\",\"c\"}\n",
        "print(_set)"
      ],
      "metadata": {
        "colab": {
          "base_uri": "https://localhost:8080/"
        },
        "id": "K4jz1zLfhBJW",
        "outputId": "53ef97c5-35f5-426d-d7d1-0a07504e42fb"
      },
      "execution_count": null,
      "outputs": [
        {
          "output_type": "stream",
          "name": "stdout",
          "text": [
            "{'a', 'b', 'c'}\n"
          ]
        }
      ]
    },
    {
      "cell_type": "code",
      "source": [
        "#17. Write a code to clear all elements from the set {1, 2, 3, 4, 5}.\n",
        "_set2={1, 2, 3, 4, 5}\n",
        "_set2.clear()"
      ],
      "metadata": {
        "id": "1rtl15B2kqOT"
      },
      "execution_count": null,
      "outputs": []
    },
    {
      "cell_type": "code",
      "source": [
        "#18.Write a code to remove the element 4 from the set {1, 2, 3, 4}.\n",
        "_set3={1, 2, 3, 4}\n",
        "_set3.remove(4)\n",
        "print(_set3)"
      ],
      "metadata": {
        "colab": {
          "base_uri": "https://localhost:8080/"
        },
        "id": "uNnHL1Muk6jk",
        "outputId": "a62212b2-c12f-4233-dd4e-d12cf1c64167"
      },
      "execution_count": null,
      "outputs": [
        {
          "output_type": "stream",
          "name": "stdout",
          "text": [
            "{1, 2, 3}\n"
          ]
        }
      ]
    },
    {
      "cell_type": "code",
      "source": [
        "#19. Write a code to find the union of two sets {1, 2, 3} and {3, 4, 5}\n",
        "_set4={1,2,3}\n",
        "_set5={3,4,5}\n",
        "print(_set4.union(_set5))"
      ],
      "metadata": {
        "colab": {
          "base_uri": "https://localhost:8080/"
        },
        "id": "P6ZcdZWYlNn4",
        "outputId": "af43cff4-2105-443f-f4eb-6949f70e7507"
      },
      "execution_count": null,
      "outputs": [
        {
          "output_type": "stream",
          "name": "stdout",
          "text": [
            "{1, 2, 3, 4, 5}\n"
          ]
        }
      ]
    },
    {
      "cell_type": "code",
      "source": [
        "#20.Write a code to find the intersection of two sets {1, 2, 3} and {2, 3, 4}.\n",
        "print(_set4.intersection(_set5))"
      ],
      "metadata": {
        "colab": {
          "base_uri": "https://localhost:8080/"
        },
        "id": "2mheZHohl25J",
        "outputId": "ffefcf8c-8a7f-4552-dfd2-fe6ac8f0039e"
      },
      "execution_count": null,
      "outputs": [
        {
          "output_type": "stream",
          "name": "stdout",
          "text": [
            "{3}\n"
          ]
        }
      ]
    },
    {
      "cell_type": "code",
      "source": [
        "#21. Write a code to create a dictionary with the keys \"name\", \"age\", and \"city\", and print it\n",
        "person={\"name\":\"Raj deep singh\",\"Age\":21,\"city\":\"delhi\"}\n",
        "print(person)"
      ],
      "metadata": {
        "colab": {
          "base_uri": "https://localhost:8080/"
        },
        "id": "_5q7mm2RmMMI",
        "outputId": "64ccba89-577d-4f11-e41d-7fbd046801ec"
      },
      "execution_count": null,
      "outputs": [
        {
          "output_type": "stream",
          "name": "stdout",
          "text": [
            "{'name': 'Raj deep singh', 'Age': 21, 'city': 'delhi'}\n"
          ]
        }
      ]
    },
    {
      "cell_type": "code",
      "source": [
        "#22. Write a code to add a new key-value pair \"country\": \"USA\" to the dictionary {'name': 'John', 'age': 25}.\n",
        "new={'name': 'John', 'age': 25}\n",
        "new[\"country\"]=\"USA\"\n",
        "print(new)"
      ],
      "metadata": {
        "colab": {
          "base_uri": "https://localhost:8080/"
        },
        "id": "IOTzThsemrqF",
        "outputId": "607de857-dc1c-4855-8e23-7f0afb6db79a"
      },
      "execution_count": null,
      "outputs": [
        {
          "output_type": "stream",
          "name": "stdout",
          "text": [
            "{'name': 'John', 'age': 25, 'country': 'USA'}\n"
          ]
        }
      ]
    },
    {
      "cell_type": "code",
      "source": [
        "#23. Write a code to access the value associated with the key \"name\" in the dictionary {'name': 'Alice', 'age': 30}\n",
        "new1={'name': 'Alice', 'age': 30}\n",
        "print(\"the value of name is:\",new1['name'])"
      ],
      "metadata": {
        "colab": {
          "base_uri": "https://localhost:8080/"
        },
        "id": "kWJYOKi2m_Qn",
        "outputId": "78cd93de-eff5-4bea-f589-103c7fc3ed0e"
      },
      "execution_count": null,
      "outputs": [
        {
          "output_type": "stream",
          "name": "stdout",
          "text": [
            "the value of name is: Alice\n"
          ]
        }
      ]
    },
    {
      "cell_type": "code",
      "source": [
        "#24. Write a code to remove the key \"age\" from the dictionary {'name': 'Bob', 'age': 22, 'city': 'New York'}.\n",
        "new_tuple= {'name': 'Bob', 'age': 22, 'city': 'New York'}\n",
        "new_tuple.pop(\"age\")\n",
        "print(new_tuple)"
      ],
      "metadata": {
        "colab": {
          "base_uri": "https://localhost:8080/"
        },
        "id": "8BrDSB_a_3zZ",
        "outputId": "0e2e3656-732c-4058-8d72-96964fc8f72f"
      },
      "execution_count": 8,
      "outputs": [
        {
          "output_type": "stream",
          "name": "stdout",
          "text": [
            "{'name': 'Bob', 'city': 'New York'}\n"
          ]
        }
      ]
    },
    {
      "cell_type": "code",
      "source": [
        "#25 .Write a code to check if the key \"city\" exists in the dictionary {'name': 'Alice', 'city': 'Paris'}.\n",
        "person = {'name': 'Alice', 'city': 'Paris'}\n",
        "print(\"city\" in person)"
      ],
      "metadata": {
        "colab": {
          "base_uri": "https://localhost:8080/"
        },
        "id": "w7e8cxSB_ocg",
        "outputId": "876da436-26be-4282-e00b-307519c6bc23"
      },
      "execution_count": 7,
      "outputs": [
        {
          "output_type": "stream",
          "name": "stdout",
          "text": [
            "True\n"
          ]
        }
      ]
    },
    {
      "cell_type": "code",
      "source": [
        "#26 .Write a code to create a list, a tuple, and a dictionary, and print them all\n",
        "my_list = [1, 2, 3]\n",
        "my_tuple = ('a', 'b', 'c')\n",
        "my_dict = {\"name\": \"mohit\", \"age\": 22}\n",
        "print(my_list)\n",
        "print(my_tuple)\n",
        "print(my_dict)"
      ],
      "metadata": {
        "colab": {
          "base_uri": "https://localhost:8080/"
        },
        "id": "pXGxwRgR_aPq",
        "outputId": "dcd60873-6b57-40a9-9254-6ac6abc2feec"
      },
      "execution_count": 6,
      "outputs": [
        {
          "output_type": "stream",
          "name": "stdout",
          "text": [
            "[1, 2, 3]\n",
            "('a', 'b', 'c')\n",
            "{'name': 'mohit', 'age': 22}\n"
          ]
        }
      ]
    },
    {
      "cell_type": "code",
      "source": [
        "#27.Write a code to create a list of 5 random numbers between 1 and 100, sort it in ascending order, and print the result.(replaced)\n",
        "import random\n",
        "nums = random.sample(range(1, 101), 5)\n",
        "nums.sort()\n",
        "print(nums)\n"
      ],
      "metadata": {
        "colab": {
          "base_uri": "https://localhost:8080/"
        },
        "id": "mIP7DwQf_KYX",
        "outputId": "b2253e6e-9354-4b25-c591-819e64493cfd"
      },
      "execution_count": 5,
      "outputs": [
        {
          "output_type": "stream",
          "name": "stdout",
          "text": [
            "[5, 29, 42, 71, 80]\n"
          ]
        }
      ]
    },
    {
      "cell_type": "code",
      "source": [
        "#28 Write a code to create a list with strings and print the element at the third index.\n",
        "_listgh=[\"apple\", \"banana\", \"mango\",\"cherry\",  \"kiwi\"]\n",
        "print(_listgh[3])"
      ],
      "metadata": {
        "colab": {
          "base_uri": "https://localhost:8080/"
        },
        "id": "Wtr1rGpo-g4s",
        "outputId": "c3123b12-b130-416c-9ef3-4ec08901655b"
      },
      "execution_count": 4,
      "outputs": [
        {
          "output_type": "stream",
          "name": "stdout",
          "text": [
            "cherry\n"
          ]
        }
      ]
    },
    {
      "cell_type": "code",
      "source": [
        "#29.Write a code to combine two dictionaries into one and print the result.\n",
        "_dict1 = {\"a\": 1, \"b\": 2}\n",
        "_dict2 = {\"c\": 3, \"d\": 4}\n",
        "combined = {**_dict1,**_dict2}\n",
        "print(combined)"
      ],
      "metadata": {
        "colab": {
          "base_uri": "https://localhost:8080/"
        },
        "id": "Q8lI3PCCAKkn",
        "outputId": "a7309589-82b1-456e-f9b1-929cd9bc1282"
      },
      "execution_count": 12,
      "outputs": [
        {
          "output_type": "stream",
          "name": "stdout",
          "text": [
            "{'a': 1, 'b': 2, 'c': 3, 'd': 4}\n"
          ]
        }
      ]
    },
    {
      "cell_type": "code",
      "source": [
        "#30 Write a code to convert a list of strings into a set\n",
        "word = [\"rajdeep\", \"mohit\", \"ayush\", \"mohit\"]\n",
        "unique = set(word)\n",
        "print(unique)"
      ],
      "metadata": {
        "id": "vtWc3RS_nVTO",
        "colab": {
          "base_uri": "https://localhost:8080/"
        },
        "outputId": "9815b85a-8b3a-4801-fe5f-b9548e50d358"
      },
      "execution_count": 1,
      "outputs": [
        {
          "output_type": "stream",
          "name": "stdout",
          "text": [
            "{'mohit', 'ayush', 'rajdeep'}\n"
          ]
        }
      ]
    }
  ]
}